{
 "cells": [
  {
   "cell_type": "markdown",
   "id": "ec278410",
   "metadata": {},
   "source": [
    "# ARRAYS ASSIGNMENT"
   ]
  },
  {
   "cell_type": "markdown",
   "id": "f8feeb6b",
   "metadata": {},
   "source": [
    "1. Given an array, check if it contains any duplicates or not.\n",
    "arr = [1, 2, 4, 2, 5, 9]\n",
    "Output = True"
   ]
  },
  {
   "cell_type": "code",
   "execution_count": 1,
   "id": "c9803054",
   "metadata": {},
   "outputs": [
    {
     "name": "stdout",
     "output_type": "stream",
     "text": [
      "True\n",
      "Yes it contains duplicates\n"
     ]
    }
   ],
   "source": [
    "def check_duplicates(arr):#creating a function\n",
    "    my_set=set(arr)#it helps to remove duplicates from the list\n",
    "    if len(arr)==len(my_set):#here i am using comparison operator\n",
    "        print(False)#it return false it there is no duplicate\n",
    "        print(\"It don't contain duplicates \")\n",
    "    else:\n",
    "        print(True)#it return True if contain duplicate\n",
    "        print(\"Yes it contains duplicates\")\n",
    "check_duplicates([1,2,4,2,5,9])\n",
    "#this code has constant complexity becouse there is no use of for loop\n",
    "#The time complexity of this code is 0(1)"
   ]
  },
  {
   "cell_type": "code",
   "execution_count": null,
   "id": "56235efd",
   "metadata": {},
   "outputs": [],
   "source": []
  },
  {
   "cell_type": "markdown",
   "id": "1c86bcf7",
   "metadata": {},
   "source": [
    "2. Given an array and an integer k, rotate the array to the right by k steps.\n",
    "arr = [1, 2, 3, 4, 5, 6, 7] k = 3\n",
    "Output = [5, 6, 7, 1, 2, 3, 4]"
   ]
  },
  {
   "cell_type": "code",
   "execution_count": 3,
   "id": "cdc9263f",
   "metadata": {},
   "outputs": [
    {
     "name": "stdout",
     "output_type": "stream",
     "text": [
      "[5, 6, 7, 1, 2, 3, 4]\n"
     ]
    }
   ],
   "source": [
    "def rotate_array(arr, k):#here we create the func\n",
    "    return arr[-k:] + arr[:-k]#by using this technique we are able to rotate the list at from specific point\n",
    "arr = [1, 2, 3, 4, 5, 6, 7]#this is a given list\n",
    "k = 3#this is the specific point where i have to rotate my list\n",
    "output = rotate_array(arr, k)\n",
    "print(output)#this is the output\n",
    "#this code has constant complexity becouse there is no use of for loop\n",
    "#The time complexity of this code is 0(1)"
   ]
  },
  {
   "cell_type": "code",
   "execution_count": null,
   "id": "0464c5a7",
   "metadata": {},
   "outputs": [],
   "source": []
  },
  {
   "cell_type": "markdown",
   "id": "ba3e16c9",
   "metadata": {},
   "source": [
    "3. Reverse the given array in-place, means without using any extra data structure.\n",
    "arr = [2, 4, 5, 7, 9, 12]\n",
    "Output = [12, 9, 7, 5, 4, 2]"
   ]
  },
  {
   "cell_type": "code",
   "execution_count": 4,
   "id": "a6a0bf4a",
   "metadata": {},
   "outputs": [
    {
     "name": "stdout",
     "output_type": "stream",
     "text": [
      "[12, 9, 7, 5, 4, 2]\n"
     ]
    }
   ],
   "source": [
    "arr=[2,4,5,7,9,12]#This the given list which i have to rotate\n",
    "print(arr[::-1])#This is the method by which we can rotate any list\n",
    "#this code has constant complexity becouse there is no use of for loop\n",
    "#The time complexity of this code is 0(1)"
   ]
  },
  {
   "cell_type": "code",
   "execution_count": null,
   "id": "63ca9bd8",
   "metadata": {},
   "outputs": [],
   "source": []
  },
  {
   "cell_type": "markdown",
   "id": "0c7be598",
   "metadata": {},
   "source": [
    "4. Given an array of integers, find the maximum element in an array\n",
    "arr = [10, 5, 20, 8, 15]\n",
    "Output = 20"
   ]
  },
  {
   "cell_type": "code",
   "execution_count": 8,
   "id": "34685843",
   "metadata": {},
   "outputs": [
    {
     "name": "stdout",
     "output_type": "stream",
     "text": [
      "20\n"
     ]
    }
   ],
   "source": [
    "arr=[10,5,20,8,15]#this is the given list\n",
    "print(max(arr))#By using max func we can find maximum number from the list\n",
    "#this code has constant complexity becouse there is no use of for loop\n",
    "#The time complexity of this code is 0(1)"
   ]
  },
  {
   "cell_type": "code",
   "execution_count": null,
   "id": "0c1604cd",
   "metadata": {},
   "outputs": [],
   "source": []
  },
  {
   "cell_type": "markdown",
   "id": "f7777093",
   "metadata": {},
   "source": [
    "5. Given a sorted array, remove the duplicate element without using any extra data structure.\n",
    "arr = [1, 1, 2, 2, 2, 3, 3, 4, 4, 4, 5, 5]\n",
    "Output = [1, 2, 3, 4, 5]"
   ]
  },
  {
   "cell_type": "code",
   "execution_count": 9,
   "id": "5dea0d6a",
   "metadata": {},
   "outputs": [
    {
     "name": "stdout",
     "output_type": "stream",
     "text": [
      "[1, 2, 3, 4, 5]\n"
     ]
    }
   ],
   "source": [
    "def remove_duplicates_sorted(arr):\n",
    "    if not arr:\n",
    "        return arr# Return the list as is if it's empty\n",
    "\n",
    "    unique_index = 0# Index for the unique elements\n",
    "\n",
    "    for i in range(1, len(arr)):\n",
    "        if arr[i] != arr[unique_index]:\n",
    "            unique_index += 1\n",
    "            arr[unique_index] = arr[i]\n",
    "\n",
    "    return arr[:unique_index + 1]\n",
    "\n",
    "arr = [1, 1, 2, 2, 2, 3, 3, 4, 4, 4, 5, 5]\n",
    "unique_arr = remove_duplicates_sorted(arr)\n",
    "print(unique_arr)  # Output will be [1, 2, 3, 4, 5]\n",
    "#this code has linear complexity becouse there is use of for loop\n",
    "#The time complexity of this code is 0(1)"
   ]
  },
  {
   "cell_type": "code",
   "execution_count": null,
   "id": "e11ef80d",
   "metadata": {},
   "outputs": [],
   "source": []
  }
 ],
 "metadata": {
  "kernelspec": {
   "display_name": "Python 3 (ipykernel)",
   "language": "python",
   "name": "python3"
  },
  "language_info": {
   "codemirror_mode": {
    "name": "ipython",
    "version": 3
   },
   "file_extension": ".py",
   "mimetype": "text/x-python",
   "name": "python",
   "nbconvert_exporter": "python",
   "pygments_lexer": "ipython3",
   "version": "3.10.9"
  }
 },
 "nbformat": 4,
 "nbformat_minor": 5
}
